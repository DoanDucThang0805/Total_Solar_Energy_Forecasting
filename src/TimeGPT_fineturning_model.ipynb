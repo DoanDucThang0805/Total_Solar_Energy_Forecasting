{
 "cells": [
  {
   "cell_type": "code",
   "execution_count": 7,
   "metadata": {},
   "outputs": [],
   "source": [
    "import pandas as pd\n",
    "import numpy as np\n",
    "import matplotlib.pyplot as plt\n",
    "import seaborn as sns\n",
    "from sklearn.preprocessing import StandardScaler"
   ]
  },
  {
   "cell_type": "code",
   "execution_count": 2,
   "metadata": {},
   "outputs": [],
   "source": [
    "df = pd.read_csv(\"D:/Research/data/solar.csv\", index_col=\"Datetime\")\n",
    "df.index = pd.to_datetime(df.index)\n",
    "df = df.iloc[::-1]"
   ]
  },
  {
   "cell_type": "code",
   "execution_count": 6,
   "metadata": {},
   "outputs": [
    {
     "data": {
      "text/html": [
       "<div>\n",
       "<style scoped>\n",
       "    .dataframe tbody tr th:only-of-type {\n",
       "        vertical-align: middle;\n",
       "    }\n",
       "\n",
       "    .dataframe tbody tr th {\n",
       "        vertical-align: top;\n",
       "    }\n",
       "\n",
       "    .dataframe thead th {\n",
       "        text-align: right;\n",
       "    }\n",
       "</style>\n",
       "<table border=\"1\" class=\"dataframe\">\n",
       "  <thead>\n",
       "    <tr style=\"text-align: right;\">\n",
       "      <th></th>\n",
       "      <th>solar_mw</th>\n",
       "      <th>wind-direction</th>\n",
       "      <th>wind-speed</th>\n",
       "      <th>humidity</th>\n",
       "      <th>average-wind-speed-(period)</th>\n",
       "      <th>average-pressure-(period)</th>\n",
       "      <th>temperature</th>\n",
       "    </tr>\n",
       "    <tr>\n",
       "      <th>Datetime</th>\n",
       "      <th></th>\n",
       "      <th></th>\n",
       "      <th></th>\n",
       "      <th></th>\n",
       "      <th></th>\n",
       "      <th></th>\n",
       "      <th></th>\n",
       "    </tr>\n",
       "  </thead>\n",
       "  <tbody>\n",
       "    <tr>\n",
       "      <th>2020-04-03 09:00:00</th>\n",
       "      <td>11363.0</td>\n",
       "      <td>27.0</td>\n",
       "      <td>13.9</td>\n",
       "      <td>81.0</td>\n",
       "      <td>11.0</td>\n",
       "      <td>29.90</td>\n",
       "      <td>63.0</td>\n",
       "    </tr>\n",
       "    <tr>\n",
       "      <th>2020-04-03 10:00:00</th>\n",
       "      <td>11254.0</td>\n",
       "      <td>27.0</td>\n",
       "      <td>13.9</td>\n",
       "      <td>81.0</td>\n",
       "      <td>17.0</td>\n",
       "      <td>29.87</td>\n",
       "      <td>63.0</td>\n",
       "    </tr>\n",
       "    <tr>\n",
       "      <th>2020-04-03 11:00:00</th>\n",
       "      <td>11048.0</td>\n",
       "      <td>27.0</td>\n",
       "      <td>13.9</td>\n",
       "      <td>68.0</td>\n",
       "      <td>21.0</td>\n",
       "      <td>29.88</td>\n",
       "      <td>63.0</td>\n",
       "    </tr>\n",
       "    <tr>\n",
       "      <th>2020-04-03 12:00:00</th>\n",
       "      <td>10763.0</td>\n",
       "      <td>27.0</td>\n",
       "      <td>13.9</td>\n",
       "      <td>66.0</td>\n",
       "      <td>15.0</td>\n",
       "      <td>29.91</td>\n",
       "      <td>63.0</td>\n",
       "    </tr>\n",
       "    <tr>\n",
       "      <th>2020-04-03 13:00:00</th>\n",
       "      <td>10396.0</td>\n",
       "      <td>27.0</td>\n",
       "      <td>13.9</td>\n",
       "      <td>75.0</td>\n",
       "      <td>10.0</td>\n",
       "      <td>29.93</td>\n",
       "      <td>63.0</td>\n",
       "    </tr>\n",
       "  </tbody>\n",
       "</table>\n",
       "</div>"
      ],
      "text/plain": [
       "                     solar_mw  wind-direction  wind-speed  humidity  \\\n",
       "Datetime                                                              \n",
       "2020-04-03 09:00:00   11363.0            27.0        13.9      81.0   \n",
       "2020-04-03 10:00:00   11254.0            27.0        13.9      81.0   \n",
       "2020-04-03 11:00:00   11048.0            27.0        13.9      68.0   \n",
       "2020-04-03 12:00:00   10763.0            27.0        13.9      66.0   \n",
       "2020-04-03 13:00:00   10396.0            27.0        13.9      75.0   \n",
       "\n",
       "                     average-wind-speed-(period)  average-pressure-(period)  \\\n",
       "Datetime                                                                      \n",
       "2020-04-03 09:00:00                         11.0                      29.90   \n",
       "2020-04-03 10:00:00                         17.0                      29.87   \n",
       "2020-04-03 11:00:00                         21.0                      29.88   \n",
       "2020-04-03 12:00:00                         15.0                      29.91   \n",
       "2020-04-03 13:00:00                         10.0                      29.93   \n",
       "\n",
       "                     temperature  \n",
       "Datetime                          \n",
       "2020-04-03 09:00:00         63.0  \n",
       "2020-04-03 10:00:00         63.0  \n",
       "2020-04-03 11:00:00         63.0  \n",
       "2020-04-03 12:00:00         63.0  \n",
       "2020-04-03 13:00:00         63.0  "
      ]
     },
     "execution_count": 6,
     "metadata": {},
     "output_type": "execute_result"
    }
   ],
   "source": [
    "df.head()"
   ]
  },
  {
   "cell_type": "code",
   "execution_count": 8,
   "metadata": {},
   "outputs": [],
   "source": [
    "df1 = df.copy()"
   ]
  },
  {
   "cell_type": "code",
   "execution_count": 9,
   "metadata": {},
   "outputs": [
    {
     "data": {
      "text/plain": [
       "((2920, 6), (2920,))"
      ]
     },
     "execution_count": 9,
     "metadata": {},
     "output_type": "execute_result"
    }
   ],
   "source": [
    "x = df1.drop(\"solar_mw\", axis= 1)\n",
    "y = df1['solar_mw']\n",
    "\n",
    "x.shape, y.shape"
   ]
  },
  {
   "cell_type": "code",
   "execution_count": null,
   "metadata": {},
   "outputs": [],
   "source": []
  }
 ],
 "metadata": {
  "kernelspec": {
   "display_name": "iot",
   "language": "python",
   "name": "python3"
  },
  "language_info": {
   "codemirror_mode": {
    "name": "ipython",
    "version": 3
   },
   "file_extension": ".py",
   "mimetype": "text/x-python",
   "name": "python",
   "nbconvert_exporter": "python",
   "pygments_lexer": "ipython3",
   "version": "3.12.3"
  }
 },
 "nbformat": 4,
 "nbformat_minor": 2
}
